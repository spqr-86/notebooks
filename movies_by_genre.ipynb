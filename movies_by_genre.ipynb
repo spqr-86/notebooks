{
  "nbformat": 4,
  "nbformat_minor": 0,
  "metadata": {
    "colab": {
      "provenance": [],
      "mount_file_id": "1yFNmggEngsMh6pVj9u8wUXXUoq1MdrYk",
      "authorship_tag": "ABX9TyPpOYMba3Q5AN95DFNOSm1w",
      "include_colab_link": true
    },
    "kernelspec": {
      "name": "python3",
      "display_name": "Python 3"
    },
    "language_info": {
      "name": "python"
    }
  },
  "cells": [
    {
      "cell_type": "markdown",
      "metadata": {
        "id": "view-in-github",
        "colab_type": "text"
      },
      "source": [
        "<a href=\"https://colab.research.google.com/github/spqr-86/notebooks/blob/main/movies_by_genre.ipynb\" target=\"_parent\"><img src=\"https://colab.research.google.com/assets/colab-badge.svg\" alt=\"Open In Colab\"/></a>"
      ]
    },
    {
      "cell_type": "markdown",
      "source": [
        "<center>\n",
        "    <img src=\"https://myastudios.com/wp-content/uploads/2020/10/imdb-button-e1601534620124.png\" alt=\"cognitiveclass.ai logo\">\n",
        "</center>\n",
        "<h1 align=center><font size = 5>IMDB horror movies analysis</font></h1>"
      ],
      "metadata": {
        "id": "SS0Q4z2_xT-R"
      }
    },
    {
      "cell_type": "markdown",
      "source": [
        "## Understand the datasets\n",
        "\n",
        "The IMDb Movies Dataset is a comprehensive collection of movies listed on IMDb, sorted by genre. \n",
        "\n",
        "A detailed description of this dataset and the original dataset can be obtained from the Kaggle at:\n",
        "https://www.kaggle.com/datasets/rajugc/imdb-movies-dataset-based-on-genre"
      ],
      "metadata": {
        "id": "yaZdtugy4vJH"
      }
    },
    {
      "cell_type": "markdown",
      "source": [
        "### Download the datasets"
      ],
      "metadata": {
        "id": "PF8xGGjO3ua9"
      }
    },
    {
      "cell_type": "code",
      "source": [
        "import pandas as pd\n",
        "url = '/content/drive/MyDrive/Dataframes/imbd_archive/horror.csv'\n",
        "df = pd.read_csv(url)\n",
        "df.head()"
      ],
      "metadata": {
        "colab": {
          "base_uri": "https://localhost:8080/",
          "height": 693
        },
        "id": "2DLw_eRQ-STN",
        "outputId": "a463c948-e515-458a-bdff-d2521500bf5c"
      },
      "execution_count": null,
      "outputs": [
        {
          "output_type": "execute_result",
          "data": {
            "text/plain": [
              "     movie_id          movie_name  year certificate  runtime  \\\n",
              "0  tt15679400  Knock at the Cabin  2023           R  100 min   \n",
              "1   tt9764362            The Menu  2022           R  107 min   \n",
              "2   tt8760708               M3GAN  2022       PG-13  102 min   \n",
              "3  tt13051810         Viking Wolf  2022       TV-MA   97 min   \n",
              "4  tt10365998       Infinity Pool  2023           R  117 min   \n",
              "\n",
              "                       genre  rating  \\\n",
              "0  Horror, Mystery, Thriller     6.4   \n",
              "1           Horror, Thriller     7.2   \n",
              "2   Horror, Sci-Fi, Thriller     6.4   \n",
              "3           Horror, Thriller     5.1   \n",
              "4     Crime, Horror, Mystery     6.5   \n",
              "\n",
              "                                         description            director  \\\n",
              "0  While vacationing, a girl and her parents are ...  M. Night Shyamalan   \n",
              "1  A young couple travels to a remote island to e...          Mark Mylod   \n",
              "2  A robotics engineer at a toy company builds a ...    Gerard Johnstone   \n",
              "3  Thale (17) has just moved with her parents to ...       Stig Svendsen   \n",
              "4  James and Em Foster are enjoying an all-inclus...  Brandon Cronenberg   \n",
              "\n",
              "        director_id                                               star  \\\n",
              "0  /name/nm0796117/  Dave Bautista, \\nJonathan Groff, \\nRupert Grin...   \n",
              "1  /name/nm0617042/  Ralph Fiennes, \\nAnya Taylor-Joy, \\nNicholas H...   \n",
              "2  /name/nm2067421/  Allison Williams, \\nViolet McGraw, \\nRonny Chi...   \n",
              "3  /name/nm1457169/  Liv Mjönes, \\nElli Rhiannon Müller Osborne, \\n...   \n",
              "4  /name/nm0188722/  Alexander Skarsgård, \\nMia Goth, \\nCleopatra C...   \n",
              "\n",
              "                                             star_id     votes  gross(in $)  \n",
              "0  /name/nm1176985/,/name/nm2676147/,/name/nm0342...   17991.0          NaN  \n",
              "1  /name/nm0000146/,/name/nm5896355/,/name/nm0396...  232052.0          NaN  \n",
              "2  /name/nm4129745/,/name/nm8627157/,/name/nm5307...   62458.0          NaN  \n",
              "3  /name/nm1203571/,/name/nm9602953/,/name/nm7416...    3872.0          NaN  \n",
              "4  /name/nm0002907/,/name/nm5301405/,/name/nm1671...    6955.0          NaN  "
            ],
            "text/html": [
              "\n",
              "  <div id=\"df-eb8b526a-32b2-4d75-9794-e067799c2561\">\n",
              "    <div class=\"colab-df-container\">\n",
              "      <div>\n",
              "<style scoped>\n",
              "    .dataframe tbody tr th:only-of-type {\n",
              "        vertical-align: middle;\n",
              "    }\n",
              "\n",
              "    .dataframe tbody tr th {\n",
              "        vertical-align: top;\n",
              "    }\n",
              "\n",
              "    .dataframe thead th {\n",
              "        text-align: right;\n",
              "    }\n",
              "</style>\n",
              "<table border=\"1\" class=\"dataframe\">\n",
              "  <thead>\n",
              "    <tr style=\"text-align: right;\">\n",
              "      <th></th>\n",
              "      <th>movie_id</th>\n",
              "      <th>movie_name</th>\n",
              "      <th>year</th>\n",
              "      <th>certificate</th>\n",
              "      <th>runtime</th>\n",
              "      <th>genre</th>\n",
              "      <th>rating</th>\n",
              "      <th>description</th>\n",
              "      <th>director</th>\n",
              "      <th>director_id</th>\n",
              "      <th>star</th>\n",
              "      <th>star_id</th>\n",
              "      <th>votes</th>\n",
              "      <th>gross(in $)</th>\n",
              "    </tr>\n",
              "  </thead>\n",
              "  <tbody>\n",
              "    <tr>\n",
              "      <th>0</th>\n",
              "      <td>tt15679400</td>\n",
              "      <td>Knock at the Cabin</td>\n",
              "      <td>2023</td>\n",
              "      <td>R</td>\n",
              "      <td>100 min</td>\n",
              "      <td>Horror, Mystery, Thriller</td>\n",
              "      <td>6.4</td>\n",
              "      <td>While vacationing, a girl and her parents are ...</td>\n",
              "      <td>M. Night Shyamalan</td>\n",
              "      <td>/name/nm0796117/</td>\n",
              "      <td>Dave Bautista, \\nJonathan Groff, \\nRupert Grin...</td>\n",
              "      <td>/name/nm1176985/,/name/nm2676147/,/name/nm0342...</td>\n",
              "      <td>17991.0</td>\n",
              "      <td>NaN</td>\n",
              "    </tr>\n",
              "    <tr>\n",
              "      <th>1</th>\n",
              "      <td>tt9764362</td>\n",
              "      <td>The Menu</td>\n",
              "      <td>2022</td>\n",
              "      <td>R</td>\n",
              "      <td>107 min</td>\n",
              "      <td>Horror, Thriller</td>\n",
              "      <td>7.2</td>\n",
              "      <td>A young couple travels to a remote island to e...</td>\n",
              "      <td>Mark Mylod</td>\n",
              "      <td>/name/nm0617042/</td>\n",
              "      <td>Ralph Fiennes, \\nAnya Taylor-Joy, \\nNicholas H...</td>\n",
              "      <td>/name/nm0000146/,/name/nm5896355/,/name/nm0396...</td>\n",
              "      <td>232052.0</td>\n",
              "      <td>NaN</td>\n",
              "    </tr>\n",
              "    <tr>\n",
              "      <th>2</th>\n",
              "      <td>tt8760708</td>\n",
              "      <td>M3GAN</td>\n",
              "      <td>2022</td>\n",
              "      <td>PG-13</td>\n",
              "      <td>102 min</td>\n",
              "      <td>Horror, Sci-Fi, Thriller</td>\n",
              "      <td>6.4</td>\n",
              "      <td>A robotics engineer at a toy company builds a ...</td>\n",
              "      <td>Gerard Johnstone</td>\n",
              "      <td>/name/nm2067421/</td>\n",
              "      <td>Allison Williams, \\nViolet McGraw, \\nRonny Chi...</td>\n",
              "      <td>/name/nm4129745/,/name/nm8627157/,/name/nm5307...</td>\n",
              "      <td>62458.0</td>\n",
              "      <td>NaN</td>\n",
              "    </tr>\n",
              "    <tr>\n",
              "      <th>3</th>\n",
              "      <td>tt13051810</td>\n",
              "      <td>Viking Wolf</td>\n",
              "      <td>2022</td>\n",
              "      <td>TV-MA</td>\n",
              "      <td>97 min</td>\n",
              "      <td>Horror, Thriller</td>\n",
              "      <td>5.1</td>\n",
              "      <td>Thale (17) has just moved with her parents to ...</td>\n",
              "      <td>Stig Svendsen</td>\n",
              "      <td>/name/nm1457169/</td>\n",
              "      <td>Liv Mjönes, \\nElli Rhiannon Müller Osborne, \\n...</td>\n",
              "      <td>/name/nm1203571/,/name/nm9602953/,/name/nm7416...</td>\n",
              "      <td>3872.0</td>\n",
              "      <td>NaN</td>\n",
              "    </tr>\n",
              "    <tr>\n",
              "      <th>4</th>\n",
              "      <td>tt10365998</td>\n",
              "      <td>Infinity Pool</td>\n",
              "      <td>2023</td>\n",
              "      <td>R</td>\n",
              "      <td>117 min</td>\n",
              "      <td>Crime, Horror, Mystery</td>\n",
              "      <td>6.5</td>\n",
              "      <td>James and Em Foster are enjoying an all-inclus...</td>\n",
              "      <td>Brandon Cronenberg</td>\n",
              "      <td>/name/nm0188722/</td>\n",
              "      <td>Alexander Skarsgård, \\nMia Goth, \\nCleopatra C...</td>\n",
              "      <td>/name/nm0002907/,/name/nm5301405/,/name/nm1671...</td>\n",
              "      <td>6955.0</td>\n",
              "      <td>NaN</td>\n",
              "    </tr>\n",
              "  </tbody>\n",
              "</table>\n",
              "</div>\n",
              "      <button class=\"colab-df-convert\" onclick=\"convertToInteractive('df-eb8b526a-32b2-4d75-9794-e067799c2561')\"\n",
              "              title=\"Convert this dataframe to an interactive table.\"\n",
              "              style=\"display:none;\">\n",
              "        \n",
              "  <svg xmlns=\"http://www.w3.org/2000/svg\" height=\"24px\"viewBox=\"0 0 24 24\"\n",
              "       width=\"24px\">\n",
              "    <path d=\"M0 0h24v24H0V0z\" fill=\"none\"/>\n",
              "    <path d=\"M18.56 5.44l.94 2.06.94-2.06 2.06-.94-2.06-.94-.94-2.06-.94 2.06-2.06.94zm-11 1L8.5 8.5l.94-2.06 2.06-.94-2.06-.94L8.5 2.5l-.94 2.06-2.06.94zm10 10l.94 2.06.94-2.06 2.06-.94-2.06-.94-.94-2.06-.94 2.06-2.06.94z\"/><path d=\"M17.41 7.96l-1.37-1.37c-.4-.4-.92-.59-1.43-.59-.52 0-1.04.2-1.43.59L10.3 9.45l-7.72 7.72c-.78.78-.78 2.05 0 2.83L4 21.41c.39.39.9.59 1.41.59.51 0 1.02-.2 1.41-.59l7.78-7.78 2.81-2.81c.8-.78.8-2.07 0-2.86zM5.41 20L4 18.59l7.72-7.72 1.47 1.35L5.41 20z\"/>\n",
              "  </svg>\n",
              "      </button>\n",
              "      \n",
              "  <style>\n",
              "    .colab-df-container {\n",
              "      display:flex;\n",
              "      flex-wrap:wrap;\n",
              "      gap: 12px;\n",
              "    }\n",
              "\n",
              "    .colab-df-convert {\n",
              "      background-color: #E8F0FE;\n",
              "      border: none;\n",
              "      border-radius: 50%;\n",
              "      cursor: pointer;\n",
              "      display: none;\n",
              "      fill: #1967D2;\n",
              "      height: 32px;\n",
              "      padding: 0 0 0 0;\n",
              "      width: 32px;\n",
              "    }\n",
              "\n",
              "    .colab-df-convert:hover {\n",
              "      background-color: #E2EBFA;\n",
              "      box-shadow: 0px 1px 2px rgba(60, 64, 67, 0.3), 0px 1px 3px 1px rgba(60, 64, 67, 0.15);\n",
              "      fill: #174EA6;\n",
              "    }\n",
              "\n",
              "    [theme=dark] .colab-df-convert {\n",
              "      background-color: #3B4455;\n",
              "      fill: #D2E3FC;\n",
              "    }\n",
              "\n",
              "    [theme=dark] .colab-df-convert:hover {\n",
              "      background-color: #434B5C;\n",
              "      box-shadow: 0px 1px 3px 1px rgba(0, 0, 0, 0.15);\n",
              "      filter: drop-shadow(0px 1px 2px rgba(0, 0, 0, 0.3));\n",
              "      fill: #FFFFFF;\n",
              "    }\n",
              "  </style>\n",
              "\n",
              "      <script>\n",
              "        const buttonEl =\n",
              "          document.querySelector('#df-eb8b526a-32b2-4d75-9794-e067799c2561 button.colab-df-convert');\n",
              "        buttonEl.style.display =\n",
              "          google.colab.kernel.accessAllowed ? 'block' : 'none';\n",
              "\n",
              "        async function convertToInteractive(key) {\n",
              "          const element = document.querySelector('#df-eb8b526a-32b2-4d75-9794-e067799c2561');\n",
              "          const dataTable =\n",
              "            await google.colab.kernel.invokeFunction('convertToInteractive',\n",
              "                                                     [key], {});\n",
              "          if (!dataTable) return;\n",
              "\n",
              "          const docLinkHtml = 'Like what you see? Visit the ' +\n",
              "            '<a target=\"_blank\" href=https://colab.research.google.com/notebooks/data_table.ipynb>data table notebook</a>'\n",
              "            + ' to learn more about interactive tables.';\n",
              "          element.innerHTML = '';\n",
              "          dataTable['output_type'] = 'display_data';\n",
              "          await google.colab.output.renderOutput(dataTable, element);\n",
              "          const docLink = document.createElement('div');\n",
              "          docLink.innerHTML = docLinkHtml;\n",
              "          element.appendChild(docLink);\n",
              "        }\n",
              "      </script>\n",
              "    </div>\n",
              "  </div>\n",
              "  "
            ]
          },
          "metadata": {},
          "execution_count": 1
        }
      ]
    },
    {
      "cell_type": "markdown",
      "source": [
        "### Store the datasets in database tables\n"
      ],
      "metadata": {
        "id": "wILb4Znp4V-2"
      }
    },
    {
      "cell_type": "code",
      "source": [
        "# enables the use of SQL statements directly in the notebook cells.\n",
        "%load_ext sql"
      ],
      "metadata": {
        "id": "mEDZUp45DySx"
      },
      "execution_count": null,
      "outputs": []
    },
    {
      "cell_type": "code",
      "execution_count": null,
      "metadata": {
        "id": "1vjOsqpwWlcE"
      },
      "outputs": [],
      "source": [
        "import sqlite3\n",
        "# Create a connection to the database.\n",
        "con = sqlite3.connect(\"movies.db\")\n",
        "# Get a cursor for executing SQL statements.\n",
        "cur = con.cursor()"
      ]
    },
    {
      "cell_type": "code",
      "source": [
        "%sql sqlite:///movies.db"
      ],
      "metadata": {
        "colab": {
          "base_uri": "https://localhost:8080/",
          "height": 37
        },
        "id": "zntuySQlD_3W",
        "outputId": "0746f20b-e67b-46e2-82e8-c437ffeb730f"
      },
      "execution_count": null,
      "outputs": [
        {
          "output_type": "execute_result",
          "data": {
            "text/plain": [
              "'Connected: @movies.db'"
            ],
            "application/vnd.google.colaboratory.intrinsic+json": {
              "type": "string"
            }
          },
          "metadata": {},
          "execution_count": 4
        }
      ]
    },
    {
      "cell_type": "code",
      "source": [
        "# calculate the percentage of missing values.\n",
        "per_missing = df.isnull().sum()*100/len(df)\n",
        "per_missing"
      ],
      "metadata": {
        "colab": {
          "base_uri": "https://localhost:8080/"
        },
        "id": "nwoG5qgMELU_",
        "outputId": "8354781f-7ef3-4299-9a82-80141ff1eefa"
      },
      "execution_count": null,
      "outputs": [
        {
          "output_type": "execute_result",
          "data": {
            "text/plain": [
              "movie_id        0.000000\n",
              "movie_name      0.000000\n",
              "year           20.694073\n",
              "certificate    73.428384\n",
              "runtime        36.312088\n",
              "genre           0.000000\n",
              "rating         42.317758\n",
              "description     0.000000\n",
              "director        8.355597\n",
              "director_id     8.355597\n",
              "star           19.437326\n",
              "star_id        17.321847\n",
              "votes          42.317758\n",
              "gross(in $)    96.330625\n",
              "dtype: float64"
            ]
          },
          "metadata": {},
          "execution_count": 5
        }
      ]
    },
    {
      "cell_type": "code",
      "source": [
        "# Delete rows where there are no values ​​in the columns \"director\", \"rating\", \"star\".\n",
        "df = df.dropna(subset=['rating', 'director', 'star'])"
      ],
      "metadata": {
        "id": "Ym7clX9QWsyb"
      },
      "execution_count": null,
      "outputs": []
    },
    {
      "cell_type": "code",
      "source": [
        "# Creating the genres table\n",
        "con.execute('''CREATE TABLE IF NOT EXISTS genres\n",
        "               (genre_id integer PRIMARY KEY AUTOINCREMENT, \n",
        "                genre_name text)''')\n",
        "\n",
        "# Creating the actors table\n",
        "con.execute('''CREATE TABLE IF NOT EXISTS actors\n",
        "               (actor_id TEXT PRIMARY KEY,\n",
        "                name TEXT)''')\n",
        "\n",
        "# Creating the directors table\n",
        "con.execute('''CREATE TABLE IF NOT EXISTS directors\n",
        "               (director_id TEXT PRIMARY KEY,\n",
        "                name TEXT)''')\n",
        "\n",
        "# Creating the movies table\n",
        "con.execute('''CREATE TABLE IF NOT EXISTS movies\n",
        "               (movie_id text PRIMARY KEY, movie_name text, year int, \n",
        "                certificate text, runtime text, rating float, description text,\n",
        "                num_votes int, gross float,\n",
        "                director_id text,\n",
        "                FOREIGN KEY (director_id) REFERENCES directors(directorid))''')\n",
        "\n",
        "# Creating the movie_genre table\n",
        "con.execute('''CREATE TABLE IF NOT EXISTS movie_genre\n",
        "             (movie_id text, genre_id integer,\n",
        "              FOREIGN KEY(movie_id) REFERENCES movies(movie_id),\n",
        "              FOREIGN KEY(genre_id) REFERENCES genres(genre_id))''')\n",
        "\n",
        "# Creating the movie_actor table\n",
        "con.execute('''CREATE TABLE IF NOT EXISTS movie_actor\n",
        "             (movie_id text, actor_id text,\n",
        "              FOREIGN KEY(movie_id) REFERENCES movies(movie_id),\n",
        "              FOREIGN KEY(actor_id) REFERENCES actors(actor_id))''')\n",
        "\n",
        "# Creating sets to store unique actors and directors\n",
        "actors = set()\n",
        "directors = set()\n",
        "\n",
        "# Creating a dictionary with the mapping of genres and their ids\n",
        "genres_dict = {}\n",
        "\n",
        "line_number = 1\n",
        "\n",
        "# Processing each row \n",
        "for index, row in df.iterrows():\n",
        "    genre_names = row['genre'].split(', ')\n",
        "    movie_id = row['movie_id']\n",
        "\n",
        "    # Inserting genres\n",
        "    for genre in genre_names:\n",
        "        if genre not in genres_dict:\n",
        "            genre_id = line_number\n",
        "            con.execute('''INSERT INTO genres (genre_id, genre_name) \n",
        "                           VALUES (?, ?)''', (genre_id, genre))\n",
        "            con.execute('''INSERT INTO movie_genre (movie_id, genre_id) \n",
        "                           VALUES (?, ?)''', (movie_id, genre_id))\n",
        "            genres_dict[genre] = genre_id\n",
        "            line_number += 1\n",
        "        else:\n",
        "          genre_id = genres_dict[genre]\n",
        "          con.execute('''INSERT INTO movie_genre (movie_id, genre_id) \n",
        "                         VALUES (?, ?)''', (movie_id, genre_id))\n",
        "    \n",
        "    star_names = row['star'].split(', \\n')\n",
        "    star_ids = row['star_id'].split(',')\n",
        "\n",
        "    # Inserting actors\n",
        "    for i in range(len(star_names)):\n",
        "        actor = (star_ids[i].strip(), star_names[i].strip())\n",
        "        con.execute('''INSERT INTO movie_actor (movie_id, actor_id) \n",
        "                       VALUES (?, ?)''', (movie_id, actor[0]))\n",
        "        if actor not in actors:\n",
        "            con.execute(\n",
        "                '''INSERT OR IGNORE INTO actors (actor_id, name) \n",
        "                   VALUES (?, ?)''', (actor[0], actor[1]))\n",
        "        actors.add(actor)\n",
        "    # Inserting directors\n",
        "    director_name = row['director']\n",
        "    director_id = row['director_id']\n",
        "    director = (director_id.strip(), director_name.strip())\n",
        "    if director not in directors:\n",
        "      con.execute(\n",
        "          \"INSERT OR IGNORE INTO directors (director_id, name) VALUES (?, ?)\", \n",
        "          (director[0], director[1]))   \n",
        "    directors.add(director)\n",
        "\n",
        "    # Inserting movies\n",
        "    con.execute('''INSERT INTO movies\n",
        "                 (movie_id, movie_name, year, certificate, runtime, rating, \n",
        "                  description, num_votes, gross, director_id)\n",
        "                  VALUES (?, ?, ?, ?, ?, ?, ?, ?, ?, ?)''',\n",
        "                (row['movie_id'], row['movie_name'], row['year'], \n",
        "                 row['certificate'], row['runtime'], row['rating'], \n",
        "                 row['description'], row['votes'], row['gross(in $)'], \n",
        "                 row['director_id']))\n",
        "con.commit()"
      ],
      "metadata": {
        "id": "u3bSHA8O04A5"
      },
      "execution_count": null,
      "outputs": []
    },
    {
      "cell_type": "markdown",
      "source": [
        "## Problems\n",
        "\n",
        "\n"
      ],
      "metadata": {
        "id": "tsSDDATV5mj1"
      }
    },
    {
      "cell_type": "markdown",
      "source": [
        "### Average rating of all movies\n"
      ],
      "metadata": {
        "id": "7e2LyivF5-pW"
      }
    },
    {
      "cell_type": "code",
      "source": [
        "avg_rating = %sql SELECT AVG(rating) FROM movies;\n",
        "avg_rating"
      ],
      "metadata": {
        "colab": {
          "base_uri": "https://localhost:8080/",
          "height": 95
        },
        "id": "FpQQitDy13sH",
        "outputId": "3c8ad134-34bb-4528-d1dc-966b68843ed3"
      },
      "execution_count": null,
      "outputs": [
        {
          "output_type": "stream",
          "name": "stdout",
          "text": [
            " * sqlite:///movies.db\n",
            "Done.\n"
          ]
        },
        {
          "output_type": "execute_result",
          "data": {
            "text/plain": [
              "[(5.007855028173049,)]"
            ],
            "text/html": [
              "<table>\n",
              "    <thead>\n",
              "        <tr>\n",
              "            <th>AVG(rating)</th>\n",
              "        </tr>\n",
              "    </thead>\n",
              "    <tbody>\n",
              "        <tr>\n",
              "            <td>5.007855028173049</td>\n",
              "        </tr>\n",
              "    </tbody>\n",
              "</table>"
            ]
          },
          "metadata": {},
          "execution_count": 8
        }
      ]
    },
    {
      "cell_type": "markdown",
      "source": [
        "### Weighted_ratings view\n",
        "\n",
        "The formula for the weighted rating is as follows:\n",
        "\n",
        "(WR) = (v ÷ (v+m)) × R + (m ÷ (v+m)) × C\n",
        "\n",
        "where:\n",
        "\n",
        "R = the mean rating for the movie\n",
        "\n",
        "v = the number of votes for the movie\n",
        "\n",
        "m = the minimum number of votes required for the movie to \n",
        "be considered in the Top 250 rankings (currently 25,000)\n",
        "\n",
        "C = the mean vote across the whole report\n",
        "\n"
      ],
      "metadata": {
        "id": "cnoHs9QS05MA"
      }
    },
    {
      "cell_type": "code",
      "source": [
        "# creating a view called \"weighted_ratings\"\n",
        "%sql CREATE VIEW weighted_ratings AS \\\n",
        "     SELECT movie_id,                \\\n",
        "            ROUND((num_votes/(num_votes + 25000.0))*rating+(25000.0/(num_votes+25000.0))*5, 2) weighted_rating \\\n",
        "       FROM movies;"
      ],
      "metadata": {
        "id": "7gS00p80pD8h",
        "colab": {
          "base_uri": "https://localhost:8080/"
        },
        "outputId": "ee2a6bfb-8283-4b58-c989-4f0586c93b36"
      },
      "execution_count": null,
      "outputs": [
        {
          "output_type": "stream",
          "name": "stdout",
          "text": [
            " * sqlite:///movies.db\n",
            "Done.\n"
          ]
        },
        {
          "output_type": "execute_result",
          "data": {
            "text/plain": [
              "[]"
            ]
          },
          "metadata": {},
          "execution_count": 9
        }
      ]
    },
    {
      "cell_type": "markdown",
      "source": [
        "### The top 10 horror movies by weighted rating\n",
        "\n"
      ],
      "metadata": {
        "id": "-Ru3uJjB3CIn"
      }
    },
    {
      "cell_type": "code",
      "source": [
        "%sql SELECT mv.movie_name, wr.weighted_rating, mv.year, dr.name, mv.gross \\\n",
        "     FROM movies mv                                                       \\\n",
        "     LEFT JOIN weighted_ratings wr ON mv.movie_id = wr.movie_id           \\\n",
        "     LEFT JOIN directors dr ON mv.director_id = dr.director_id            \\\n",
        "     ORDER BY 2 DESC                                                      \\\n",
        "     LIMIT 10; "
      ],
      "metadata": {
        "id": "mvaNUI9xW1Li",
        "colab": {
          "base_uri": "https://localhost:8080/",
          "height": 284
        },
        "outputId": "bdd58b18-6cb5-470d-8703-67d60712dce2"
      },
      "execution_count": null,
      "outputs": [
        {
          "output_type": "stream",
          "name": "stdout",
          "text": [
            " * sqlite:///movies.db\n",
            "Done.\n"
          ]
        },
        {
          "output_type": "execute_result",
          "data": {
            "text/plain": [
              "[('Alien', 8.4, 1979, 'Ridley Scott', 78900000.0),\n",
              " ('Psycho', 8.38, 1960, 'Alfred Hitchcock', 32000000.0),\n",
              " ('The Shining', 8.32, 1980, 'Stanley Kubrick', 44017374.0),\n",
              " ('The Thing', 8.02, 1982, 'John Carpenter', 13782838.0),\n",
              " ('The Exorcist', 7.92, 1973, 'William Friedkin', 232906145.0),\n",
              " ('Shaun of the Dead', 7.78, 2004, 'Edgar Wright', 13542874.0),\n",
              " (\"Rosemary's Baby\", 7.69, 1968, 'Roman Polanski', None),\n",
              " ('Predator', 7.65, 1987, 'John McTiernan', 59735548.0),\n",
              " ('Get Out', 7.6, 2017, 'Jordan Peele', 176040665.0),\n",
              " ('Let the Right One In', 7.6, 2008, 'Tomas Alfredson', 2122065.0)]"
            ],
            "text/html": [
              "<table>\n",
              "    <thead>\n",
              "        <tr>\n",
              "            <th>movie_name</th>\n",
              "            <th>weighted_rating</th>\n",
              "            <th>year</th>\n",
              "            <th>name</th>\n",
              "            <th>gross</th>\n",
              "        </tr>\n",
              "    </thead>\n",
              "    <tbody>\n",
              "        <tr>\n",
              "            <td>Alien</td>\n",
              "            <td>8.4</td>\n",
              "            <td>1979</td>\n",
              "            <td>Ridley Scott</td>\n",
              "            <td>78900000.0</td>\n",
              "        </tr>\n",
              "        <tr>\n",
              "            <td>Psycho</td>\n",
              "            <td>8.38</td>\n",
              "            <td>1960</td>\n",
              "            <td>Alfred Hitchcock</td>\n",
              "            <td>32000000.0</td>\n",
              "        </tr>\n",
              "        <tr>\n",
              "            <td>The Shining</td>\n",
              "            <td>8.32</td>\n",
              "            <td>1980</td>\n",
              "            <td>Stanley Kubrick</td>\n",
              "            <td>44017374.0</td>\n",
              "        </tr>\n",
              "        <tr>\n",
              "            <td>The Thing</td>\n",
              "            <td>8.02</td>\n",
              "            <td>1982</td>\n",
              "            <td>John Carpenter</td>\n",
              "            <td>13782838.0</td>\n",
              "        </tr>\n",
              "        <tr>\n",
              "            <td>The Exorcist</td>\n",
              "            <td>7.92</td>\n",
              "            <td>1973</td>\n",
              "            <td>William Friedkin</td>\n",
              "            <td>232906145.0</td>\n",
              "        </tr>\n",
              "        <tr>\n",
              "            <td>Shaun of the Dead</td>\n",
              "            <td>7.78</td>\n",
              "            <td>2004</td>\n",
              "            <td>Edgar Wright</td>\n",
              "            <td>13542874.0</td>\n",
              "        </tr>\n",
              "        <tr>\n",
              "            <td>Rosemary&#x27;s Baby</td>\n",
              "            <td>7.69</td>\n",
              "            <td>1968</td>\n",
              "            <td>Roman Polanski</td>\n",
              "            <td>None</td>\n",
              "        </tr>\n",
              "        <tr>\n",
              "            <td>Predator</td>\n",
              "            <td>7.65</td>\n",
              "            <td>1987</td>\n",
              "            <td>John McTiernan</td>\n",
              "            <td>59735548.0</td>\n",
              "        </tr>\n",
              "        <tr>\n",
              "            <td>Get Out</td>\n",
              "            <td>7.6</td>\n",
              "            <td>2017</td>\n",
              "            <td>Jordan Peele</td>\n",
              "            <td>176040665.0</td>\n",
              "        </tr>\n",
              "        <tr>\n",
              "            <td>Let the Right One In</td>\n",
              "            <td>7.6</td>\n",
              "            <td>2008</td>\n",
              "            <td>Tomas Alfredson</td>\n",
              "            <td>2122065.0</td>\n",
              "        </tr>\n",
              "    </tbody>\n",
              "</table>"
            ]
          },
          "metadata": {},
          "execution_count": 10
        }
      ]
    },
    {
      "cell_type": "markdown",
      "source": [
        "### The top 10 directors by weighted assessment who have shot more than 2 films\n",
        "\n"
      ],
      "metadata": {
        "id": "8QYIUkY05xwA"
      }
    },
    {
      "cell_type": "code",
      "source": [
        "%sql SELECT dr.name,                                               \\\n",
        "            ROUND(AVG(wr.weighted_rating), 2) WR,                  \\\n",
        "            COUNT(*) AS movie_count                                \\\n",
        "       FROM movies mv                                              \\\n",
        "       LEFT JOIN directors dr ON mv.director_id = dr.director_id   \\\n",
        "       LEFT JOIN weighted_ratings wr ON mv.movie_id = wr.movie_id  \\\n",
        "      GROUP BY 1                                                   \\\n",
        "     HAVING COUNT(*) > 2                                           \\\n",
        "      ORDER BY 2 DESC                                              \\\n",
        "      LIMIT 20;"
      ],
      "metadata": {
        "id": "43narwdf-6xy",
        "colab": {
          "base_uri": "https://localhost:8080/",
          "height": 494
        },
        "outputId": "117ba6ce-afe7-4ceb-9980-8f9e791c5728"
      },
      "execution_count": null,
      "outputs": [
        {
          "output_type": "stream",
          "name": "stdout",
          "text": [
            " * sqlite:///movies.db\n",
            "Done.\n"
          ]
        },
        {
          "output_type": "execute_result",
          "data": {
            "text/plain": [
              "[('Jordan Peele', 6.98, 3),\n",
              " ('Roman Polanski', 6.89, 3),\n",
              " ('Tim Burton', 6.74, 4),\n",
              " ('Peter Jackson', 6.54, 3),\n",
              " ('James Whale', 6.54, 4),\n",
              " ('Andy Muschietti', 6.54, 3),\n",
              " ('Robert Rodriguez', 6.49, 5),\n",
              " ('David Lynch', 6.49, 3),\n",
              " ('James Wan', 6.47, 8),\n",
              " ('Alejandro Amenábar', 6.43, 3),\n",
              " ('Jee-woon Kim', 6.41, 3),\n",
              " ('Scott Derrickson', 6.4, 4),\n",
              " ('Sam Raimi', 6.4, 8),\n",
              " ('Guillermo del Toro', 6.39, 7),\n",
              " ('Genndy Tartakovsky', 6.38, 3),\n",
              " ('Neil Jordan', 6.31, 3),\n",
              " ('John Carpenter', 6.28, 11),\n",
              " ('André Øvredal', 6.28, 3),\n",
              " ('David Cronenberg', 6.25, 10),\n",
              " ('William Friedkin', 6.21, 3)]"
            ],
            "text/html": [
              "<table>\n",
              "    <thead>\n",
              "        <tr>\n",
              "            <th>name</th>\n",
              "            <th>WR</th>\n",
              "            <th>movie_count</th>\n",
              "        </tr>\n",
              "    </thead>\n",
              "    <tbody>\n",
              "        <tr>\n",
              "            <td>Jordan Peele</td>\n",
              "            <td>6.98</td>\n",
              "            <td>3</td>\n",
              "        </tr>\n",
              "        <tr>\n",
              "            <td>Roman Polanski</td>\n",
              "            <td>6.89</td>\n",
              "            <td>3</td>\n",
              "        </tr>\n",
              "        <tr>\n",
              "            <td>Tim Burton</td>\n",
              "            <td>6.74</td>\n",
              "            <td>4</td>\n",
              "        </tr>\n",
              "        <tr>\n",
              "            <td>Peter Jackson</td>\n",
              "            <td>6.54</td>\n",
              "            <td>3</td>\n",
              "        </tr>\n",
              "        <tr>\n",
              "            <td>James Whale</td>\n",
              "            <td>6.54</td>\n",
              "            <td>4</td>\n",
              "        </tr>\n",
              "        <tr>\n",
              "            <td>Andy Muschietti</td>\n",
              "            <td>6.54</td>\n",
              "            <td>3</td>\n",
              "        </tr>\n",
              "        <tr>\n",
              "            <td>Robert Rodriguez</td>\n",
              "            <td>6.49</td>\n",
              "            <td>5</td>\n",
              "        </tr>\n",
              "        <tr>\n",
              "            <td>David Lynch</td>\n",
              "            <td>6.49</td>\n",
              "            <td>3</td>\n",
              "        </tr>\n",
              "        <tr>\n",
              "            <td>James Wan</td>\n",
              "            <td>6.47</td>\n",
              "            <td>8</td>\n",
              "        </tr>\n",
              "        <tr>\n",
              "            <td>Alejandro Amenábar</td>\n",
              "            <td>6.43</td>\n",
              "            <td>3</td>\n",
              "        </tr>\n",
              "        <tr>\n",
              "            <td>Jee-woon Kim</td>\n",
              "            <td>6.41</td>\n",
              "            <td>3</td>\n",
              "        </tr>\n",
              "        <tr>\n",
              "            <td>Scott Derrickson</td>\n",
              "            <td>6.4</td>\n",
              "            <td>4</td>\n",
              "        </tr>\n",
              "        <tr>\n",
              "            <td>Sam Raimi</td>\n",
              "            <td>6.4</td>\n",
              "            <td>8</td>\n",
              "        </tr>\n",
              "        <tr>\n",
              "            <td>Guillermo del Toro</td>\n",
              "            <td>6.39</td>\n",
              "            <td>7</td>\n",
              "        </tr>\n",
              "        <tr>\n",
              "            <td>Genndy Tartakovsky</td>\n",
              "            <td>6.38</td>\n",
              "            <td>3</td>\n",
              "        </tr>\n",
              "        <tr>\n",
              "            <td>Neil Jordan</td>\n",
              "            <td>6.31</td>\n",
              "            <td>3</td>\n",
              "        </tr>\n",
              "        <tr>\n",
              "            <td>John Carpenter</td>\n",
              "            <td>6.28</td>\n",
              "            <td>11</td>\n",
              "        </tr>\n",
              "        <tr>\n",
              "            <td>André Øvredal</td>\n",
              "            <td>6.28</td>\n",
              "            <td>3</td>\n",
              "        </tr>\n",
              "        <tr>\n",
              "            <td>David Cronenberg</td>\n",
              "            <td>6.25</td>\n",
              "            <td>10</td>\n",
              "        </tr>\n",
              "        <tr>\n",
              "            <td>William Friedkin</td>\n",
              "            <td>6.21</td>\n",
              "            <td>3</td>\n",
              "        </tr>\n",
              "    </tbody>\n",
              "</table>"
            ]
          },
          "metadata": {},
          "execution_count": 11
        }
      ]
    },
    {
      "cell_type": "markdown",
      "source": [
        "### Actor with the most horror movies"
      ],
      "metadata": {
        "id": "4zoD7O7v6EnG"
      }
    },
    {
      "cell_type": "code",
      "source": [
        "%sql SELECT ac.name, COUNT(*)                                \\\n",
        "       FROM movies mv                                        \\\n",
        "       JOIN movie_actor mvac ON mv.movie_id = mvac.movie_id  \\\n",
        "       JOIN actors ac ON mvac.actor_id = ac.actor_id         \\\n",
        "      GROUP BY 1                                             \\\n",
        "      ORDER BY 2 DESC                                        \\\n",
        "      LIMIT 1;"
      ],
      "metadata": {
        "id": "2434KJX1jv5O",
        "colab": {
          "base_uri": "https://localhost:8080/",
          "height": 95
        },
        "outputId": "46e567ef-dd30-43b9-c8dd-89aceedefa34"
      },
      "execution_count": null,
      "outputs": [
        {
          "output_type": "stream",
          "name": "stdout",
          "text": [
            " * sqlite:///movies.db\n",
            "Done.\n"
          ]
        },
        {
          "output_type": "execute_result",
          "data": {
            "text/plain": [
              "[('Christopher Lee', 64)]"
            ],
            "text/html": [
              "<table>\n",
              "    <thead>\n",
              "        <tr>\n",
              "            <th>name</th>\n",
              "            <th>COUNT(*)</th>\n",
              "        </tr>\n",
              "    </thead>\n",
              "    <tbody>\n",
              "        <tr>\n",
              "            <td>Christopher Lee</td>\n",
              "            <td>64</td>\n",
              "        </tr>\n",
              "    </tbody>\n",
              "</table>"
            ]
          },
          "metadata": {},
          "execution_count": 12
        }
      ]
    },
    {
      "cell_type": "markdown",
      "source": [
        "### Average Gross Revenue per Year"
      ],
      "metadata": {
        "id": "qDVa1STUmh65"
      }
    },
    {
      "cell_type": "code",
      "source": [
        "import matplotlib.pyplot as plt\n",
        "\n",
        "query = \"\"\"SELECT mv.year AS release_year, \n",
        "                  ROUND(AVG(mv.gross), 2) AS gross \n",
        "             FROM movies mv \n",
        "            GROUP BY release_year \n",
        "            ORDER BY release_year DESC;\"\"\"\n",
        "df = pd.read_sql_query(query, con)\n",
        "df.dropna(inplace=True)\n",
        "\n",
        "# create bar chart using matplotlib\n",
        "plt.bar(df['release_year'], df['gross'])\n",
        "plt.title('Average Gross Revenue per Year')\n",
        "plt.xlabel('Year')\n",
        "plt.ylabel('Gross Revenue')\n",
        "plt.show()"
      ],
      "metadata": {
        "colab": {
          "base_uri": "https://localhost:8080/",
          "height": 295
        },
        "id": "c-cWE5FexOkJ",
        "outputId": "fb8118ef-aa40-42dd-aabc-851cba4c9eea"
      },
      "execution_count": null,
      "outputs": [
        {
          "output_type": "display_data",
          "data": {
            "text/plain": [
              "<Figure size 432x288 with 1 Axes>"
            ],
            "image/png": "[encoded data removed]"
          },
          "metadata": {
            "needs_background": "light"
          }
        }
      ]
    }
  ]
}